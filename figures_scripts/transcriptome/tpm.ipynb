{
 "cells": [
  {
   "cell_type": "code",
   "execution_count": null,
   "metadata": {},
   "outputs": [],
   "source": [
    "# https://github.com/reneshbedre/bioinfokit\n",
    "from bioinfokit.analys import norm, get_data\n",
    "import pandas as pd\n"
   ]
  },
  {
   "cell_type": "code",
   "execution_count": null,
   "metadata": {},
   "outputs": [],
   "source": [
    "df=pd.read_csv(\"/Users/dawid/sciebo/drArbeit/diverse/data/transcriptome/ann_gene.csv\", index_col=0)\n",
    "df.head()"
   ]
  },
  {
   "cell_type": "code",
   "execution_count": null,
   "metadata": {},
   "outputs": [],
   "source": [
    "# https://www.reneshbedre.com/blog/expression_units.html\n",
    "# now, normalize raw counts using TPM method\n",
    "# gene length must be in bp\n",
    "nm = norm()\n",
    "nm.tpm(df=df, gl=\"transcript_length\")\n",
    "# get TPM normalized dataframe\n",
    "tpm_df = nm.tpm_norm\n",
    "tpm_df.head(2)"
   ]
  },
  {
   "cell_type": "code",
   "execution_count": null,
   "metadata": {},
   "outputs": [],
   "source": [
    "tpm_df.to_csv(\"/Users/dawid/sciebo/drArbeit/diverse/data/transcriptome/TPM.csv\", sep=',')"
   ]
  },
  {
   "cell_type": "code",
   "execution_count": null,
   "metadata": {},
   "outputs": [],
   "source": []
  }
 ],
 "metadata": {
  "kernelspec": {
   "display_name": "pandas",
   "language": "python",
   "name": "python3"
  },
  "language_info": {
   "codemirror_mode": {
    "name": "ipython",
    "version": 3
   },
   "file_extension": ".py",
   "mimetype": "text/x-python",
   "name": "python",
   "nbconvert_exporter": "python",
   "pygments_lexer": "ipython3",
   "version": "3.11.0"
  },
  "orig_nbformat": 4,
  "vscode": {
   "interpreter": {
    "hash": "e2bc5f7568bc4f4187e645a7b64ff7ae67be50ed00d68e0c8fc269d058fbdb02"
   }
  }
 },
 "nbformat": 4,
 "nbformat_minor": 2
}
